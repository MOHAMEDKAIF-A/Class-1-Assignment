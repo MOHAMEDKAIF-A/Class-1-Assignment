{
 "cells": [
  {
   "cell_type": "code",
   "execution_count": 11,
   "metadata": {},
   "outputs": [],
   "source": [
    "class SubfieldsInAI():\n",
    "     def Subfields():\n",
    "        print(\"Sub-fields in AI are:\")\n",
    "        List=['Machine learning','Neural networks','Vision','Robotics','Speech processing','NLP']\n",
    "        for temp in List:\n",
    "            print (temp)"
   ]
  },
  {
   "cell_type": "code",
   "execution_count": 12,
   "metadata": {},
   "outputs": [
    {
     "name": "stdout",
     "output_type": "stream",
     "text": [
      "Sub-fields in AI are:\n",
      "Machine learning\n",
      "Neural networks\n",
      "Vision\n",
      "Robotics\n",
      "Speech processing\n",
      "NLP\n"
     ]
    }
   ],
   "source": [
    "SubfieldsInAI.Subfields()"
   ]
  },
  {
   "cell_type": "code",
   "execution_count": 26,
   "metadata": {},
   "outputs": [],
   "source": [
    "class oddEven():\n",
    "    def oddeven():\n",
    "        num=int(input(\"Enter a number :\"))\n",
    "        if(num%2)==0:\n",
    "            print=(\"even number\")\n",
    "            message=\"even number\"\n",
    "        else:\n",
    "            print=(\"odd number\")\n",
    "            message=\"odd number\"\n",
    "        return message"
   ]
  },
  {
   "cell_type": "code",
   "execution_count": 27,
   "metadata": {},
   "outputs": [
    {
     "name": "stdout",
     "output_type": "stream",
     "text": [
      "Enter a number :52452\n"
     ]
    },
    {
     "data": {
      "text/plain": [
       "'even number'"
      ]
     },
     "execution_count": 27,
     "metadata": {},
     "output_type": "execute_result"
    }
   ],
   "source": [
    "oddEven.oddeven()"
   ]
  },
  {
   "cell_type": "code",
   "execution_count": 3,
   "metadata": {},
   "outputs": [],
   "source": [
    "class EligibilityForMarriage():\n",
    "    def ELigibile():\n",
    "        gender=input(\"your gender :\")\n",
    "        age=int(input(\"your age :\"))\n",
    "        if (gender=='Male'):\n",
    "            print ('Male')\n",
    "        else:\n",
    "            print ('Female')\n",
    "        if (age==18):\n",
    "            print('Eligible')\n",
    "        else:\n",
    "            print('Not Eligble')"
   ]
  },
  {
   "cell_type": "code",
   "execution_count": 6,
   "metadata": {},
   "outputs": [
    {
     "name": "stdout",
     "output_type": "stream",
     "text": [
      "your gender :Male\n",
      "your age :20\n",
      "Male\n",
      "Not Eligble\n"
     ]
    }
   ],
   "source": [
    "EligibilityForMarriage.ELigibile()"
   ]
  },
  {
   "cell_type": "code",
   "execution_count": 13,
   "metadata": {},
   "outputs": [],
   "source": [
    "class FindPercent():\n",
    "    def percentage():\n",
    "        m1=int(input(\"Sub1-\"))\n",
    "        m2=int(input(\"Sub2-\"))\n",
    "        m3=int(input(\"Sub3-\"))\n",
    "        m4=int(input(\"Sub4-\"))\n",
    "        m5=int(input(\"Sub5-\"))\n",
    "        Total=m1+m2+m3+m4+m5\n",
    "        print(\"Total\",m1+m2+m3+m4+m5)\n",
    "        percentage=(Total/500)*100\n",
    "        print(\"percentage\",(Total/500)*100)"
   ]
  },
  {
   "cell_type": "code",
   "execution_count": 14,
   "metadata": {},
   "outputs": [
    {
     "name": "stdout",
     "output_type": "stream",
     "text": [
      "Sub1-98\n",
      "Sub2-87\n",
      "Sub3-95\n",
      "Sub4-95\n",
      "Sub5-93\n",
      "Total 468\n",
      "percentage 93.60000000000001\n"
     ]
    }
   ],
   "source": [
    "FindPercent.percentage()"
   ]
  },
  {
   "cell_type": "code",
   "execution_count": 15,
   "metadata": {},
   "outputs": [],
   "source": [
    "class triangle():\n",
    "    def triangle():\n",
    "        Height=int(input(\"Height:\"))\n",
    "        breadth=int(input(\"Breadth:\"))\n",
    "        print(\"Area formula: (Height*Breadth)/2\")\n",
    "        print(\"Area of Triangle: \",(Height*breadth)/2)\n",
    "        Height1=int(input(\"Height1:\"))\n",
    "        Height2=int(input(\"Height2:\"))\n",
    "        breadth=int(input(\"Breadth:\"))\n",
    "        print(\"Perimeter formula: Height1+Height2+Breadth\")\n",
    "        print(\"Perimeter of Triangle: \",Height1+Height2+breadth)"
   ]
  },
  {
   "cell_type": "code",
   "execution_count": 17,
   "metadata": {},
   "outputs": [
    {
     "name": "stdout",
     "output_type": "stream",
     "text": [
      "Height:32\n",
      "Breadth:34\n",
      "Area formula: (Height*Breadth)/2\n",
      "Area of Triangle:  544.0\n",
      "Height1:2\n",
      "Height2:4\n",
      "Breadth:4\n",
      "Perimeter formula: Height1+Height2+Breadth\n",
      "Perimeter of Triangle:  10\n"
     ]
    }
   ],
   "source": [
    "triangle.triangle()"
   ]
  },
  {
   "cell_type": "code",
   "execution_count": null,
   "metadata": {},
   "outputs": [],
   "source": []
  }
 ],
 "metadata": {
  "kernelspec": {
   "display_name": "Python 3",
   "language": "python",
   "name": "python3"
  },
  "language_info": {
   "codemirror_mode": {
    "name": "ipython",
    "version": 3
   },
   "file_extension": ".py",
   "mimetype": "text/x-python",
   "name": "python",
   "nbconvert_exporter": "python",
   "pygments_lexer": "ipython3",
   "version": "3.7.4"
  }
 },
 "nbformat": 4,
 "nbformat_minor": 2
}
